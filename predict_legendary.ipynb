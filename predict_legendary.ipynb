{
 "cells": [
  {
   "cell_type": "code",
   "execution_count": 47,
   "id": "a73e8ab3",
   "metadata": {},
   "outputs": [],
   "source": [
    "import pandas as pd\n",
    "import numpy as np\n",
    "from sklearn.model_selection import train_test_split\n",
    "from sklearn.metrics import classification_report, confusion_matrix"
   ]
  },
  {
   "cell_type": "code",
   "execution_count": 48,
   "id": "3bc7f14d",
   "metadata": {},
   "outputs": [],
   "source": [
    "df_pokemon = pd.read_csv('pokemon.csv', index_col='id')"
   ]
  },
  {
   "cell_type": "code",
   "execution_count": 49,
   "id": "9842387f",
   "metadata": {},
   "outputs": [],
   "source": [
    "X = df_pokemon[['base_xp','height','weight','nabilities','meanstats','ntypes']]\n",
    "y = df_pokemon['islegendary']"
   ]
  },
  {
   "cell_type": "code",
   "execution_count": 50,
   "id": "796ba0fb",
   "metadata": {},
   "outputs": [],
   "source": [
    "# Separando dados para teste\n",
    "\n",
    "X_train, X_test, y_train, y_test = train_test_split(X, y, test_size=0.3)"
   ]
  },
  {
   "cell_type": "code",
   "execution_count": 51,
   "id": "85d490d7",
   "metadata": {},
   "outputs": [
    {
     "name": "stdout",
     "output_type": "stream",
     "text": [
      "              precision    recall  f1-score   support\n",
      "\n",
      "           0       0.98      0.96      0.97       254\n",
      "           1       0.52      0.69      0.59        16\n",
      "\n",
      "    accuracy                           0.94       270\n",
      "   macro avg       0.75      0.82      0.78       270\n",
      "weighted avg       0.95      0.94      0.95       270\n",
      "\n",
      "[[244  10]\n",
      " [  5  11]]\n"
     ]
    }
   ],
   "source": [
    "# Primeiro utilizando árvore de decisão\n",
    "\n",
    "from sklearn.tree import DecisionTreeClassifier\n",
    "\n",
    "dtree = DecisionTreeClassifier()\n",
    "\n",
    "dtree.fit(X_train, y_train)\n",
    "predictions = dtree.predict(X_test)\n",
    "\n",
    "\n",
    "print(classification_report(y_test, predictions))\n",
    "print(confusion_matrix(y_test, predictions))"
   ]
  },
  {
   "cell_type": "code",
   "execution_count": 52,
   "id": "3eca68d0",
   "metadata": {},
   "outputs": [
    {
     "name": "stdout",
     "output_type": "stream",
     "text": [
      "              precision    recall  f1-score   support\n",
      "\n",
      "           0       1.00      1.00      1.00       254\n",
      "           1       0.94      0.94      0.94        16\n",
      "\n",
      "    accuracy                           0.99       270\n",
      "   macro avg       0.97      0.97      0.97       270\n",
      "weighted avg       0.99      0.99      0.99       270\n",
      "\n",
      "[[253   1]\n",
      " [  1  15]]\n"
     ]
    }
   ],
   "source": [
    "# Depois utilizando Random Forest\n",
    "\n",
    "from sklearn.ensemble import RandomForestClassifier\n",
    "\n",
    "rfc = RandomForestClassifier(n_estimators=100)\n",
    "\n",
    "rfc.fit(X_train, y_train)\n",
    "rfc_pred = rfc.predict(X_test)\n",
    "\n",
    "print(classification_report(y_test, rfc_pred))\n",
    "print(confusion_matrix(y_test, rfc_pred))"
   ]
  },
  {
   "cell_type": "code",
   "execution_count": null,
   "id": "e0c60ff5",
   "metadata": {},
   "outputs": [],
   "source": []
  }
 ],
 "metadata": {
  "kernelspec": {
   "display_name": "Python 3 (ipykernel)",
   "language": "python",
   "name": "python3"
  },
  "language_info": {
   "codemirror_mode": {
    "name": "ipython",
    "version": 3
   },
   "file_extension": ".py",
   "mimetype": "text/x-python",
   "name": "python",
   "nbconvert_exporter": "python",
   "pygments_lexer": "ipython3",
   "version": "3.8.10"
  }
 },
 "nbformat": 4,
 "nbformat_minor": 5
}
